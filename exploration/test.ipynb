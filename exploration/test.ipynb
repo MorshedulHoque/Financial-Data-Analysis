{
 "cells": [
  {
   "cell_type": "code",
   "execution_count": 37,
   "metadata": {},
   "outputs": [],
   "source": [
    " \n",
    "import pandas as pd\n",
    "import json\n",
    "from dateutil import parser"
   ]
  },
  {
   "cell_type": "code",
   "execution_count": 4,
   "metadata": {},
   "outputs": [],
   "source": [
    "ACCOUNT_ID = \"101-001-26993136-002\"\n",
    "API_KEY = \"a5bc1f4d955885aa1c86dbbc75faa04b-dca8b28605f0e80274551009b7fe445e\"\n",
    "OANDA_URL = \"https://api-fxpractice.oanda.com/v3\""
   ]
  },
  {
   "cell_type": "code",
   "execution_count": 5,
   "metadata": {},
   "outputs": [],
   "source": [
    "session = requests.Session()"
   ]
  },
  {
   "cell_type": "code",
   "execution_count": 6,
   "metadata": {},
   "outputs": [],
   "source": [
    "session.headers.update({\n",
    "    \"Authorization\": f\"Bearer {API_KEY}\",\n",
    "    \"Content-Type\": \"application/json\"\n",
    "})"
   ]
  },
  {
   "cell_type": "code",
   "execution_count": null,
   "metadata": {},
   "outputs": [],
   "source": [
    "params = dict(\n",
    "    count = 10,\n",
    "    granularity = \"H1\",\n",
    "    price = \"MBA\"\n",
    ")"
   ]
  },
  {
   "cell_type": "code",
   "execution_count": 7,
   "metadata": {},
   "outputs": [],
   "source": [
    "params = dict(\n",
    "        count = 10,\n",
    "        granularity = 'H1',\n",
    "        price = \"MBA\"\n",
    "    )"
   ]
  },
  {
   "cell_type": "code",
   "execution_count": 8,
   "metadata": {},
   "outputs": [],
   "source": [
    "url = f\"{OANDA_URL}/instruments/EUR_USD/candles\"\n",
    "    "
   ]
  },
  {
   "cell_type": "code",
   "execution_count": 11,
   "metadata": {},
   "outputs": [],
   "source": [
    "response = session.get(url, params=params, data=None, headers=None)"
   ]
  },
  {
   "cell_type": "code",
   "execution_count": 12,
   "metadata": {},
   "outputs": [
    {
     "data": {
      "text/plain": [
       "{'instrument': 'EUR_USD',\n",
       " 'granularity': 'H1',\n",
       " 'candles': [{'complete': True,\n",
       "   'volume': 3507,\n",
       "   'time': '2023-10-20T11:00:00.000000000Z',\n",
       "   'bid': {'o': '1.05845', 'h': '1.05983', 'l': '1.05842', 'c': '1.05903'},\n",
       "   'mid': {'o': '1.05852', 'h': '1.05990', 'l': '1.05850', 'c': '1.05910'},\n",
       "   'ask': {'o': '1.05860', 'h': '1.05997', 'l': '1.05858', 'c': '1.05917'}},\n",
       "  {'complete': True,\n",
       "   'volume': 6914,\n",
       "   'time': '2023-10-20T12:00:00.000000000Z',\n",
       "   'bid': {'o': '1.05899', 'h': '1.05916', 'l': '1.05644', 'c': '1.05831'},\n",
       "   'mid': {'o': '1.05906', 'h': '1.05924', 'l': '1.05652', 'c': '1.05838'},\n",
       "   'ask': {'o': '1.05913', 'h': '1.05932', 'l': '1.05660', 'c': '1.05846'}},\n",
       "  {'complete': True,\n",
       "   'volume': 8132,\n",
       "   'time': '2023-10-20T13:00:00.000000000Z',\n",
       "   'bid': {'o': '1.05831', 'h': '1.05943', 'l': '1.05783', 'c': '1.05784'},\n",
       "   'mid': {'o': '1.05838', 'h': '1.05950', 'l': '1.05790', 'c': '1.05791'},\n",
       "   'ask': {'o': '1.05845', 'h': '1.05957', 'l': '1.05797', 'c': '1.05798'}},\n",
       "  {'complete': True,\n",
       "   'volume': 8125,\n",
       "   'time': '2023-10-20T14:00:00.000000000Z',\n",
       "   'bid': {'o': '1.05780', 'h': '1.06002', 'l': '1.05714', 'c': '1.05871'},\n",
       "   'mid': {'o': '1.05787', 'h': '1.06009', 'l': '1.05722', 'c': '1.05878'},\n",
       "   'ask': {'o': '1.05794', 'h': '1.06016', 'l': '1.05730', 'c': '1.05886'}},\n",
       "  {'complete': True,\n",
       "   'volume': 4493,\n",
       "   'time': '2023-10-20T15:00:00.000000000Z',\n",
       "   'bid': {'o': '1.05872', 'h': '1.05958', 'l': '1.05862', 'c': '1.05904'},\n",
       "   'mid': {'o': '1.05879', 'h': '1.05966', 'l': '1.05870', 'c': '1.05912'},\n",
       "   'ask': {'o': '1.05886', 'h': '1.05973', 'l': '1.05877', 'c': '1.05919'}},\n",
       "  {'complete': True,\n",
       "   'volume': 3760,\n",
       "   'time': '2023-10-20T16:00:00.000000000Z',\n",
       "   'bid': {'o': '1.05904', 'h': '1.05906', 'l': '1.05804', 'c': '1.05888'},\n",
       "   'mid': {'o': '1.05911', 'h': '1.05914', 'l': '1.05812', 'c': '1.05896'},\n",
       "   'ask': {'o': '1.05918', 'h': '1.05921', 'l': '1.05820', 'c': '1.05903'}},\n",
       "  {'complete': True,\n",
       "   'volume': 4098,\n",
       "   'time': '2023-10-20T17:00:00.000000000Z',\n",
       "   'bid': {'o': '1.05891', 'h': '1.06031', 'l': '1.05872', 'c': '1.05949'},\n",
       "   'mid': {'o': '1.05898', 'h': '1.06038', 'l': '1.05879', 'c': '1.05956'},\n",
       "   'ask': {'o': '1.05905', 'h': '1.06045', 'l': '1.05886', 'c': '1.05964'}},\n",
       "  {'complete': True,\n",
       "   'volume': 3030,\n",
       "   'time': '2023-10-20T18:00:00.000000000Z',\n",
       "   'bid': {'o': '1.05949', 'h': '1.05959', 'l': '1.05857', 'c': '1.05919'},\n",
       "   'mid': {'o': '1.05957', 'h': '1.05966', 'l': '1.05864', 'c': '1.05926'},\n",
       "   'ask': {'o': '1.05965', 'h': '1.05973', 'l': '1.05871', 'c': '1.05933'}},\n",
       "  {'complete': True,\n",
       "   'volume': 2270,\n",
       "   'time': '2023-10-20T19:00:00.000000000Z',\n",
       "   'bid': {'o': '1.05916', 'h': '1.05940', 'l': '1.05875', 'c': '1.05916'},\n",
       "   'mid': {'o': '1.05924', 'h': '1.05948', 'l': '1.05882', 'c': '1.05923'},\n",
       "   'ask': {'o': '1.05932', 'h': '1.05955', 'l': '1.05890', 'c': '1.05930'}},\n",
       "  {'complete': True,\n",
       "   'volume': 1466,\n",
       "   'time': '2023-10-20T20:00:00.000000000Z',\n",
       "   'bid': {'o': '1.05912', 'h': '1.05953', 'l': '1.05908', 'c': '1.05938'},\n",
       "   'mid': {'o': '1.05919', 'h': '1.05968', 'l': '1.05916', 'c': '1.05948'},\n",
       "   'ask': {'o': '1.05926', 'h': '1.05986', 'l': '1.05923', 'c': '1.05957'}}]}"
      ]
     },
     "execution_count": 12,
     "metadata": {},
     "output_type": "execute_result"
    }
   ],
   "source": [
    "response.json()"
   ]
  },
  {
   "cell_type": "code",
   "execution_count": 13,
   "metadata": {},
   "outputs": [],
   "source": [
    "url = f\"{OANDA_URL}/accounts/{ACCOUNT_ID}/instruments\""
   ]
  },
  {
   "cell_type": "code",
   "execution_count": 14,
   "metadata": {},
   "outputs": [],
   "source": [
    "response = session.get(url, params=None, data=None, headers=None)"
   ]
  },
  {
   "cell_type": "code",
   "execution_count": 15,
   "metadata": {},
   "outputs": [
    {
     "data": {
      "text/plain": [
       "200"
      ]
     },
     "execution_count": 15,
     "metadata": {},
     "output_type": "execute_result"
    }
   ],
   "source": [
    "response.status_code"
   ]
  },
  {
   "cell_type": "code",
   "execution_count": 18,
   "metadata": {},
   "outputs": [],
   "source": [
    "data = response.json()"
   ]
  },
  {
   "cell_type": "code",
   "execution_count": 19,
   "metadata": {},
   "outputs": [],
   "source": [
    "instruments_list = data['instruments']"
   ]
  },
  {
   "cell_type": "code",
   "execution_count": 20,
   "metadata": {},
   "outputs": [
    {
     "data": {
      "text/plain": [
       "68"
      ]
     },
     "execution_count": 20,
     "metadata": {},
     "output_type": "execute_result"
    }
   ],
   "source": [
    "len(instruments_list)"
   ]
  },
  {
   "cell_type": "code",
   "execution_count": 25,
   "metadata": {},
   "outputs": [
    {
     "data": {
      "text/plain": [
       "dict_keys(['name', 'type', 'displayName', 'pipLocation', 'displayPrecision', 'tradeUnitsPrecision', 'minimumTradeSize', 'maximumTrailingStopDistance', 'minimumTrailingStopDistance', 'maximumPositionSize', 'maximumOrderUnits', 'marginRate', 'guaranteedStopLossOrderMode', 'tags', 'financing'])"
      ]
     },
     "execution_count": 25,
     "metadata": {},
     "output_type": "execute_result"
    }
   ],
   "source": [
    "instruments_list[0].keys()"
   ]
  },
  {
   "cell_type": "code",
   "execution_count": 26,
   "metadata": {},
   "outputs": [],
   "source": [
    "key_i = ['name', 'type', 'displayName', 'pipLocation',\n",
    "         'displayPrecision', 'tradeUnitsPrecision', 'marginRate']"
   ]
  },
  {
   "cell_type": "code",
   "execution_count": 27,
   "metadata": {},
   "outputs": [],
   "source": [
    "instruments_dict = {}\n",
    "for i in instruments_list:\n",
    "    key = i['name']\n",
    "    instruments_dict[key] = { k: i[k] for k in key_i }"
   ]
  },
  {
   "cell_type": "code",
   "execution_count": 29,
   "metadata": {},
   "outputs": [
    {
     "data": {
      "text/plain": [
       "{'name': 'USD_CAD',\n",
       " 'type': 'CURRENCY',\n",
       " 'displayName': 'USD/CAD',\n",
       " 'pipLocation': -4,\n",
       " 'displayPrecision': 5,\n",
       " 'tradeUnitsPrecision': 0,\n",
       " 'marginRate': '0.02'}"
      ]
     },
     "execution_count": 29,
     "metadata": {},
     "output_type": "execute_result"
    }
   ],
   "source": [
    "instruments_dict['USD_CAD']"
   ]
  },
  {
   "cell_type": "code",
   "execution_count": 30,
   "metadata": {},
   "outputs": [
    {
     "data": {
      "text/plain": [
       "0.0001"
      ]
     },
     "execution_count": 30,
     "metadata": {},
     "output_type": "execute_result"
    }
   ],
   "source": [
    "# -4 -> 0.0001\n",
    "pow(10, -4)"
   ]
  },
  {
   "cell_type": "code",
   "execution_count": 31,
   "metadata": {},
   "outputs": [],
   "source": [
    "with open(\"../data/instruments.json\", \"w\") as f:\n",
    "    f.write(json.dumps(instruments_dict, indent=2))"
   ]
  },
  {
   "cell_type": "code",
   "execution_count": 43,
   "metadata": {},
   "outputs": [],
   "source": [
    "def fetch_candles(pair_name, count=10, granularity=\"H1\"):\n",
    "    url = f\"{OANDA_URL}/instruments/{pair_name}/candles\"\n",
    "    params = dict(\n",
    "        count = count,\n",
    "        granularity = granularity,\n",
    "        price = \"MBA\"\n",
    "    )\n",
    "    response = session.get(url, params=params, data=None, headers=None)\n",
    "    data = response.json()\n",
    "    \n",
    "    if response.status_code == 200:\n",
    "        if 'candles' not in data:\n",
    "            data = []\n",
    "        else:\n",
    "            data = data['candles']\n",
    "    return response.status_code, data\n",
    "\n",
    "def get_candles_df(data):\n",
    "    if len(data) == 0:\n",
    "        return pd.DataFrame.empty\n",
    "    \n",
    "    prices = ['mid', 'bid', 'ask']\n",
    "    ohlc = ['o', 'h', 'l', 'c']\n",
    "    \n",
    "    final_data = []\n",
    "    for candle in data:\n",
    "        if candle['complete'] == False:\n",
    "            continue\n",
    "        new_dict = {}\n",
    "        new_dict['time'] = parser.parse(candle['time'])\n",
    "        new_dict['volume'] = candle['volume']\n",
    "        for p in prices:\n",
    "            for o in ohlc:\n",
    "                new_dict[f\"{p}_{o}\"] = float(candle[p][o])\n",
    "        final_data.append(new_dict)\n",
    "    df = pd.DataFrame.from_dict(final_data)\n",
    "    return df\n",
    "\n",
    "def create_data_file(pair_name, count=10, granularity=\"H1\"):\n",
    "    code, data = fetch_candles(pair_name, count, granularity)\n",
    "    if code != 200:\n",
    "        print(\"Failed\", pair_name, data)\n",
    "        return\n",
    "    if len(data) == 0:\n",
    "        print(\"No candles\", pair_name)\n",
    "    candles_df = get_candles_df(data)\n",
    "    candles_df.to_pickle(f\"../data/{pair_name}_{granularity}.pkl\")\n",
    "    print(f\"{pair_name} {granularity} {candles_df.shape[0]} candles, {candles_df.time.min()} {candles_df.time.max()}\")\n",
    "    "
   ]
  },
  {
   "cell_type": "code",
   "execution_count": 39,
   "metadata": {},
   "outputs": [],
   "source": [
    "code, data = fetch_candles(\"EUR_USD\", count=10, granularity=\"H4\")\n",
    "candles_df = get_candles_df(data)"
   ]
  },
  {
   "cell_type": "code",
   "execution_count": 40,
   "metadata": {},
   "outputs": [
    {
     "data": {
      "text/html": [
       "<div>\n",
       "<style scoped>\n",
       "    .dataframe tbody tr th:only-of-type {\n",
       "        vertical-align: middle;\n",
       "    }\n",
       "\n",
       "    .dataframe tbody tr th {\n",
       "        vertical-align: top;\n",
       "    }\n",
       "\n",
       "    .dataframe thead th {\n",
       "        text-align: right;\n",
       "    }\n",
       "</style>\n",
       "<table border=\"1\" class=\"dataframe\">\n",
       "  <thead>\n",
       "    <tr style=\"text-align: right;\">\n",
       "      <th></th>\n",
       "      <th>time</th>\n",
       "      <th>volume</th>\n",
       "      <th>mid_o</th>\n",
       "      <th>mid_h</th>\n",
       "      <th>mid_l</th>\n",
       "      <th>mid_c</th>\n",
       "      <th>bid_o</th>\n",
       "      <th>bid_h</th>\n",
       "      <th>bid_l</th>\n",
       "      <th>bid_c</th>\n",
       "      <th>ask_o</th>\n",
       "      <th>ask_h</th>\n",
       "      <th>ask_l</th>\n",
       "      <th>ask_c</th>\n",
       "    </tr>\n",
       "  </thead>\n",
       "  <tbody>\n",
       "    <tr>\n",
       "      <th>0</th>\n",
       "      <td>2023-10-19 05:00:00+00:00</td>\n",
       "      <td>16874</td>\n",
       "      <td>1.05335</td>\n",
       "      <td>1.05482</td>\n",
       "      <td>1.05282</td>\n",
       "      <td>1.05359</td>\n",
       "      <td>1.05328</td>\n",
       "      <td>1.05474</td>\n",
       "      <td>1.05274</td>\n",
       "      <td>1.05352</td>\n",
       "      <td>1.05342</td>\n",
       "      <td>1.05490</td>\n",
       "      <td>1.05289</td>\n",
       "      <td>1.05366</td>\n",
       "    </tr>\n",
       "    <tr>\n",
       "      <th>1</th>\n",
       "      <td>2023-10-19 09:00:00+00:00</td>\n",
       "      <td>18582</td>\n",
       "      <td>1.05361</td>\n",
       "      <td>1.05797</td>\n",
       "      <td>1.05352</td>\n",
       "      <td>1.05763</td>\n",
       "      <td>1.05354</td>\n",
       "      <td>1.05790</td>\n",
       "      <td>1.05345</td>\n",
       "      <td>1.05756</td>\n",
       "      <td>1.05368</td>\n",
       "      <td>1.05804</td>\n",
       "      <td>1.05360</td>\n",
       "      <td>1.05770</td>\n",
       "    </tr>\n",
       "    <tr>\n",
       "      <th>2</th>\n",
       "      <td>2023-10-19 13:00:00+00:00</td>\n",
       "      <td>39637</td>\n",
       "      <td>1.05767</td>\n",
       "      <td>1.06168</td>\n",
       "      <td>1.05564</td>\n",
       "      <td>1.05966</td>\n",
       "      <td>1.05760</td>\n",
       "      <td>1.06160</td>\n",
       "      <td>1.05556</td>\n",
       "      <td>1.05957</td>\n",
       "      <td>1.05774</td>\n",
       "      <td>1.06175</td>\n",
       "      <td>1.05573</td>\n",
       "      <td>1.05974</td>\n",
       "    </tr>\n",
       "    <tr>\n",
       "      <th>3</th>\n",
       "      <td>2023-10-19 17:00:00+00:00</td>\n",
       "      <td>23883</td>\n",
       "      <td>1.05964</td>\n",
       "      <td>1.06066</td>\n",
       "      <td>1.05783</td>\n",
       "      <td>1.05814</td>\n",
       "      <td>1.05956</td>\n",
       "      <td>1.06059</td>\n",
       "      <td>1.05776</td>\n",
       "      <td>1.05804</td>\n",
       "      <td>1.05972</td>\n",
       "      <td>1.06074</td>\n",
       "      <td>1.05790</td>\n",
       "      <td>1.05824</td>\n",
       "    </tr>\n",
       "    <tr>\n",
       "      <th>4</th>\n",
       "      <td>2023-10-19 21:00:00+00:00</td>\n",
       "      <td>5602</td>\n",
       "      <td>1.05838</td>\n",
       "      <td>1.05868</td>\n",
       "      <td>1.05738</td>\n",
       "      <td>1.05760</td>\n",
       "      <td>1.05792</td>\n",
       "      <td>1.05861</td>\n",
       "      <td>1.05730</td>\n",
       "      <td>1.05753</td>\n",
       "      <td>1.05885</td>\n",
       "      <td>1.05885</td>\n",
       "      <td>1.05745</td>\n",
       "      <td>1.05768</td>\n",
       "    </tr>\n",
       "    <tr>\n",
       "      <th>5</th>\n",
       "      <td>2023-10-20 01:00:00+00:00</td>\n",
       "      <td>8879</td>\n",
       "      <td>1.05760</td>\n",
       "      <td>1.05800</td>\n",
       "      <td>1.05684</td>\n",
       "      <td>1.05754</td>\n",
       "      <td>1.05752</td>\n",
       "      <td>1.05793</td>\n",
       "      <td>1.05677</td>\n",
       "      <td>1.05746</td>\n",
       "      <td>1.05768</td>\n",
       "      <td>1.05808</td>\n",
       "      <td>1.05691</td>\n",
       "      <td>1.05761</td>\n",
       "    </tr>\n",
       "    <tr>\n",
       "      <th>6</th>\n",
       "      <td>2023-10-20 05:00:00+00:00</td>\n",
       "      <td>16930</td>\n",
       "      <td>1.05750</td>\n",
       "      <td>1.05953</td>\n",
       "      <td>1.05650</td>\n",
       "      <td>1.05877</td>\n",
       "      <td>1.05743</td>\n",
       "      <td>1.05946</td>\n",
       "      <td>1.05643</td>\n",
       "      <td>1.05869</td>\n",
       "      <td>1.05758</td>\n",
       "      <td>1.05960</td>\n",
       "      <td>1.05658</td>\n",
       "      <td>1.05885</td>\n",
       "    </tr>\n",
       "    <tr>\n",
       "      <th>7</th>\n",
       "      <td>2023-10-20 09:00:00+00:00</td>\n",
       "      <td>17538</td>\n",
       "      <td>1.05875</td>\n",
       "      <td>1.05990</td>\n",
       "      <td>1.05652</td>\n",
       "      <td>1.05838</td>\n",
       "      <td>1.05868</td>\n",
       "      <td>1.05983</td>\n",
       "      <td>1.05644</td>\n",
       "      <td>1.05831</td>\n",
       "      <td>1.05882</td>\n",
       "      <td>1.05997</td>\n",
       "      <td>1.05660</td>\n",
       "      <td>1.05846</td>\n",
       "    </tr>\n",
       "    <tr>\n",
       "      <th>8</th>\n",
       "      <td>2023-10-20 13:00:00+00:00</td>\n",
       "      <td>24510</td>\n",
       "      <td>1.05838</td>\n",
       "      <td>1.06009</td>\n",
       "      <td>1.05722</td>\n",
       "      <td>1.05896</td>\n",
       "      <td>1.05831</td>\n",
       "      <td>1.06002</td>\n",
       "      <td>1.05714</td>\n",
       "      <td>1.05888</td>\n",
       "      <td>1.05845</td>\n",
       "      <td>1.06016</td>\n",
       "      <td>1.05730</td>\n",
       "      <td>1.05903</td>\n",
       "    </tr>\n",
       "    <tr>\n",
       "      <th>9</th>\n",
       "      <td>2023-10-20 17:00:00+00:00</td>\n",
       "      <td>10864</td>\n",
       "      <td>1.05898</td>\n",
       "      <td>1.06038</td>\n",
       "      <td>1.05864</td>\n",
       "      <td>1.05948</td>\n",
       "      <td>1.05891</td>\n",
       "      <td>1.06031</td>\n",
       "      <td>1.05857</td>\n",
       "      <td>1.05938</td>\n",
       "      <td>1.05905</td>\n",
       "      <td>1.06045</td>\n",
       "      <td>1.05871</td>\n",
       "      <td>1.05957</td>\n",
       "    </tr>\n",
       "  </tbody>\n",
       "</table>\n",
       "</div>"
      ],
      "text/plain": [
       "                       time  volume    mid_o    mid_h    mid_l    mid_c  \\\n",
       "0 2023-10-19 05:00:00+00:00   16874  1.05335  1.05482  1.05282  1.05359   \n",
       "1 2023-10-19 09:00:00+00:00   18582  1.05361  1.05797  1.05352  1.05763   \n",
       "2 2023-10-19 13:00:00+00:00   39637  1.05767  1.06168  1.05564  1.05966   \n",
       "3 2023-10-19 17:00:00+00:00   23883  1.05964  1.06066  1.05783  1.05814   \n",
       "4 2023-10-19 21:00:00+00:00    5602  1.05838  1.05868  1.05738  1.05760   \n",
       "5 2023-10-20 01:00:00+00:00    8879  1.05760  1.05800  1.05684  1.05754   \n",
       "6 2023-10-20 05:00:00+00:00   16930  1.05750  1.05953  1.05650  1.05877   \n",
       "7 2023-10-20 09:00:00+00:00   17538  1.05875  1.05990  1.05652  1.05838   \n",
       "8 2023-10-20 13:00:00+00:00   24510  1.05838  1.06009  1.05722  1.05896   \n",
       "9 2023-10-20 17:00:00+00:00   10864  1.05898  1.06038  1.05864  1.05948   \n",
       "\n",
       "     bid_o    bid_h    bid_l    bid_c    ask_o    ask_h    ask_l    ask_c  \n",
       "0  1.05328  1.05474  1.05274  1.05352  1.05342  1.05490  1.05289  1.05366  \n",
       "1  1.05354  1.05790  1.05345  1.05756  1.05368  1.05804  1.05360  1.05770  \n",
       "2  1.05760  1.06160  1.05556  1.05957  1.05774  1.06175  1.05573  1.05974  \n",
       "3  1.05956  1.06059  1.05776  1.05804  1.05972  1.06074  1.05790  1.05824  \n",
       "4  1.05792  1.05861  1.05730  1.05753  1.05885  1.05885  1.05745  1.05768  \n",
       "5  1.05752  1.05793  1.05677  1.05746  1.05768  1.05808  1.05691  1.05761  \n",
       "6  1.05743  1.05946  1.05643  1.05869  1.05758  1.05960  1.05658  1.05885  \n",
       "7  1.05868  1.05983  1.05644  1.05831  1.05882  1.05997  1.05660  1.05846  \n",
       "8  1.05831  1.06002  1.05714  1.05888  1.05845  1.06016  1.05730  1.05903  \n",
       "9  1.05891  1.06031  1.05857  1.05938  1.05905  1.06045  1.05871  1.05957  "
      ]
     },
     "execution_count": 40,
     "metadata": {},
     "output_type": "execute_result"
    }
   ],
   "source": [
    "candles_df"
   ]
  },
  {
   "cell_type": "code",
   "execution_count": 41,
   "metadata": {},
   "outputs": [
    {
     "name": "stdout",
     "output_type": "stream",
     "text": [
      "<class 'pandas.core.frame.DataFrame'>\n",
      "RangeIndex: 10 entries, 0 to 9\n",
      "Data columns (total 14 columns):\n",
      " #   Column  Non-Null Count  Dtype                  \n",
      "---  ------  --------------  -----                  \n",
      " 0   time    10 non-null     datetime64[ns, tzutc()]\n",
      " 1   volume  10 non-null     int64                  \n",
      " 2   mid_o   10 non-null     float64                \n",
      " 3   mid_h   10 non-null     float64                \n",
      " 4   mid_l   10 non-null     float64                \n",
      " 5   mid_c   10 non-null     float64                \n",
      " 6   bid_o   10 non-null     float64                \n",
      " 7   bid_h   10 non-null     float64                \n",
      " 8   bid_l   10 non-null     float64                \n",
      " 9   bid_c   10 non-null     float64                \n",
      " 10  ask_o   10 non-null     float64                \n",
      " 11  ask_h   10 non-null     float64                \n",
      " 12  ask_l   10 non-null     float64                \n",
      " 13  ask_c   10 non-null     float64                \n",
      "dtypes: datetime64[ns, tzutc()](1), float64(12), int64(1)\n",
      "memory usage: 1.2 KB\n"
     ]
    }
   ],
   "source": [
    "candles_df.info()"
   ]
  },
  {
   "cell_type": "code",
   "execution_count": 44,
   "metadata": {},
   "outputs": [
    {
     "name": "stdout",
     "output_type": "stream",
     "text": [
      "EUR_USD H4 10 candles, 2023-10-19 05:00:00+00:00 2023-10-20 17:00:00+00:00\n"
     ]
    }
   ],
   "source": [
    "create_data_file(\"EUR_USD\", count=10, granularity=\"H4\")"
   ]
  },
  {
   "cell_type": "code",
   "execution_count": 45,
   "metadata": {},
   "outputs": [],
   "source": [
    "our_curr = ['EUR', 'USD', 'GBP', 'JPY', 'CHF', 'NZD', 'CAD', 'AUD']"
   ]
  },
  {
   "cell_type": "code",
   "execution_count": 46,
   "metadata": {},
   "outputs": [
    {
     "name": "stdout",
     "output_type": "stream",
     "text": [
      "EUR_USD H1 4001 candles, 2023-03-02 05:00:00+00:00 2023-10-20 20:00:00+00:00\n",
      "EUR_USD H4 4001 candles, 2021-03-31 01:00:00+00:00 2023-10-20 17:00:00+00:00\n",
      "EUR_GBP H1 4001 candles, 2023-03-02 05:00:00+00:00 2023-10-20 20:00:00+00:00\n",
      "EUR_GBP H4 4001 candles, 2021-03-31 01:00:00+00:00 2023-10-20 17:00:00+00:00\n",
      "EUR_JPY H1 4001 candles, 2023-03-02 05:00:00+00:00 2023-10-20 20:00:00+00:00\n",
      "EUR_JPY H4 4001 candles, 2021-03-30 17:00:00+00:00 2023-10-20 17:00:00+00:00\n",
      "EUR_CHF H1 4001 candles, 2023-03-02 05:00:00+00:00 2023-10-20 20:00:00+00:00\n",
      "EUR_CHF H4 4001 candles, 2021-03-31 01:00:00+00:00 2023-10-20 17:00:00+00:00\n",
      "EUR_NZD H1 4001 candles, 2023-03-02 04:00:00+00:00 2023-10-20 20:00:00+00:00\n",
      "EUR_NZD H4 4001 candles, 2021-03-31 01:00:00+00:00 2023-10-20 17:00:00+00:00\n",
      "EUR_CAD H1 4001 candles, 2023-03-02 05:00:00+00:00 2023-10-20 20:00:00+00:00\n",
      "EUR_CAD H4 4001 candles, 2021-03-31 01:00:00+00:00 2023-10-20 17:00:00+00:00\n",
      "EUR_AUD H1 4001 candles, 2023-03-02 04:00:00+00:00 2023-10-20 20:00:00+00:00\n",
      "EUR_AUD H4 4001 candles, 2021-03-31 01:00:00+00:00 2023-10-20 17:00:00+00:00\n",
      "USD_JPY H1 4001 candles, 2023-03-02 05:00:00+00:00 2023-10-20 20:00:00+00:00\n",
      "USD_JPY H4 4001 candles, 2021-03-31 01:00:00+00:00 2023-10-20 17:00:00+00:00\n",
      "USD_CHF H1 4001 candles, 2023-03-02 05:00:00+00:00 2023-10-20 20:00:00+00:00\n",
      "USD_CHF H4 4001 candles, 2021-03-31 01:00:00+00:00 2023-10-20 17:00:00+00:00\n",
      "USD_CAD H1 4001 candles, 2023-03-02 05:00:00+00:00 2023-10-20 20:00:00+00:00\n",
      "USD_CAD H4 4001 candles, 2021-03-31 01:00:00+00:00 2023-10-20 17:00:00+00:00\n",
      "GBP_USD H1 4001 candles, 2023-03-02 05:00:00+00:00 2023-10-20 20:00:00+00:00\n",
      "GBP_USD H4 4001 candles, 2021-03-31 01:00:00+00:00 2023-10-20 17:00:00+00:00\n",
      "GBP_JPY H1 4001 candles, 2023-03-02 05:00:00+00:00 2023-10-20 20:00:00+00:00\n",
      "GBP_JPY H4 4001 candles, 2021-03-31 01:00:00+00:00 2023-10-20 17:00:00+00:00\n",
      "GBP_CHF H1 4001 candles, 2023-03-02 05:00:00+00:00 2023-10-20 20:00:00+00:00\n",
      "GBP_CHF H4 4001 candles, 2021-03-31 01:00:00+00:00 2023-10-20 17:00:00+00:00\n",
      "GBP_NZD H1 4001 candles, 2023-03-02 04:00:00+00:00 2023-10-20 20:00:00+00:00\n",
      "GBP_NZD H4 4001 candles, 2021-03-31 01:00:00+00:00 2023-10-20 17:00:00+00:00\n",
      "GBP_CAD H1 4001 candles, 2023-03-02 05:00:00+00:00 2023-10-20 20:00:00+00:00\n",
      "GBP_CAD H4 4001 candles, 2021-03-31 01:00:00+00:00 2023-10-20 17:00:00+00:00\n",
      "GBP_AUD H1 4001 candles, 2023-03-02 01:00:00+00:00 2023-10-20 20:00:00+00:00\n",
      "GBP_AUD H4 4001 candles, 2021-03-31 01:00:00+00:00 2023-10-20 17:00:00+00:00\n",
      "CHF_JPY H1 4001 candles, 2023-03-02 05:00:00+00:00 2023-10-20 20:00:00+00:00\n",
      "CHF_JPY H4 4001 candles, 2021-03-31 01:00:00+00:00 2023-10-20 17:00:00+00:00\n",
      "NZD_USD H1 4001 candles, 2023-03-02 05:00:00+00:00 2023-10-20 20:00:00+00:00\n",
      "NZD_USD H4 4001 candles, 2021-03-31 09:00:00+00:00 2023-10-20 17:00:00+00:00\n",
      "NZD_JPY H1 4001 candles, 2023-03-02 05:00:00+00:00 2023-10-20 20:00:00+00:00\n",
      "NZD_JPY H4 4001 candles, 2021-03-31 01:00:00+00:00 2023-10-20 17:00:00+00:00\n",
      "NZD_CHF H1 4001 candles, 2023-03-01 22:00:00+00:00 2023-10-20 20:00:00+00:00\n",
      "NZD_CHF H4 4001 candles, 2021-03-30 21:00:00+00:00 2023-10-20 17:00:00+00:00\n",
      "NZD_CAD H1 4001 candles, 2023-03-02 04:00:00+00:00 2023-10-20 20:00:00+00:00\n",
      "NZD_CAD H4 4001 candles, 2021-03-31 01:00:00+00:00 2023-10-20 17:00:00+00:00\n",
      "CAD_JPY H1 4001 candles, 2023-03-02 05:00:00+00:00 2023-10-20 20:00:00+00:00\n",
      "CAD_JPY H4 4001 candles, 2021-03-31 01:00:00+00:00 2023-10-20 17:00:00+00:00\n",
      "CAD_CHF H1 4001 candles, 2023-03-02 03:00:00+00:00 2023-10-20 20:00:00+00:00\n",
      "CAD_CHF H4 4001 candles, 2021-03-31 01:00:00+00:00 2023-10-20 17:00:00+00:00\n",
      "AUD_USD H1 4001 candles, 2023-03-02 05:00:00+00:00 2023-10-20 20:00:00+00:00\n",
      "AUD_USD H4 4001 candles, 2021-03-31 01:00:00+00:00 2023-10-20 17:00:00+00:00\n",
      "AUD_JPY H1 4001 candles, 2023-03-02 05:00:00+00:00 2023-10-20 20:00:00+00:00\n",
      "AUD_JPY H4 4001 candles, 2021-04-01 01:00:00+00:00 2023-10-20 17:00:00+00:00\n",
      "AUD_CHF H1 4001 candles, 2023-03-02 04:00:00+00:00 2023-10-20 20:00:00+00:00\n",
      "AUD_CHF H4 4001 candles, 2021-03-30 21:00:00+00:00 2023-10-20 17:00:00+00:00\n",
      "AUD_NZD H1 4001 candles, 2023-03-02 05:00:00+00:00 2023-10-20 20:00:00+00:00\n",
      "AUD_NZD H4 4001 candles, 2021-03-30 21:00:00+00:00 2023-10-20 17:00:00+00:00\n",
      "AUD_CAD H1 4001 candles, 2023-03-02 05:00:00+00:00 2023-10-20 20:00:00+00:00\n",
      "AUD_CAD H4 4001 candles, 2021-03-31 01:00:00+00:00 2023-10-20 17:00:00+00:00\n"
     ]
    }
   ],
   "source": [
    "for p1 in our_curr:\n",
    "    for p2 in our_curr:\n",
    "        pr = f\"{p1}_{p2}\"\n",
    "        if pr in instruments_dict:\n",
    "            for g in [\"H1\", \"H4\"]:\n",
    "                create_data_file(pr, count=4001, granularity=g)"
   ]
  },
  {
   "cell_type": "code",
   "execution_count": null,
   "metadata": {},
   "outputs": [],
   "source": []
  },
  {
   "cell_type": "code",
   "execution_count": null,
   "metadata": {},
   "outputs": [],
   "source": []
  },
  {
   "cell_type": "code",
   "execution_count": null,
   "metadata": {},
   "outputs": [],
   "source": []
  },
  {
   "cell_type": "code",
   "execution_count": null,
   "metadata": {},
   "outputs": [],
   "source": []
  },
  {
   "cell_type": "code",
   "execution_count": null,
   "metadata": {},
   "outputs": [],
   "source": []
  },
  {
   "cell_type": "code",
   "execution_count": null,
   "metadata": {},
   "outputs": [],
   "source": []
  },
  {
   "cell_type": "code",
   "execution_count": null,
   "metadata": {},
   "outputs": [],
   "source": []
  },
  {
   "cell_type": "code",
   "execution_count": null,
   "metadata": {},
   "outputs": [],
   "source": []
  },
  {
   "cell_type": "code",
   "execution_count": null,
   "metadata": {},
   "outputs": [],
   "source": []
  },
  {
   "cell_type": "code",
   "execution_count": null,
   "metadata": {},
   "outputs": [],
   "source": []
  },
  {
   "cell_type": "code",
   "execution_count": null,
   "metadata": {},
   "outputs": [],
   "source": []
  }
 ],
 "metadata": {
  "kernelspec": {
   "display_name": "venv",
   "language": "python",
   "name": "python3"
  },
  "language_info": {
   "codemirror_mode": {
    "name": "ipython",
    "version": 3
   },
   "file_extension": ".py",
   "mimetype": "text/x-python",
   "name": "python",
   "nbconvert_exporter": "python",
   "pygments_lexer": "ipython3",
   "version": "3.11.3"
  }
 },
 "nbformat": 4,
 "nbformat_minor": 2
}
