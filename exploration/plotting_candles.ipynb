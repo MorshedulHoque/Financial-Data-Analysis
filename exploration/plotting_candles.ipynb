{
 "cells": [
  {
   "cell_type": "code",
   "execution_count": 1,
   "id": "5fed330a",
   "metadata": {},
   "outputs": [],
   "source": [
    "import pandas as pd\n",
    "import plotly.graph_objects as go\n",
    "import datetime as dt"
   ]
  },
  {
   "cell_type": "code",
   "execution_count": 2,
   "id": "b19a3cf7",
   "metadata": {},
   "outputs": [],
   "source": [
    "pair = \"EUR_USD\"\n",
    "granularity = \"H4\"\n",
    "df = pd.read_pickle(f\"../data/{pair}_{granularity}.pkl\")"
   ]
  },
  {
   "cell_type": "code",
   "execution_count": 3,
   "id": "df3f6e66",
   "metadata": {},
   "outputs": [
    {
     "data": {
      "text/html": [
       "<div>\n",
       "<style scoped>\n",
       "    .dataframe tbody tr th:only-of-type {\n",
       "        vertical-align: middle;\n",
       "    }\n",
       "\n",
       "    .dataframe tbody tr th {\n",
       "        vertical-align: top;\n",
       "    }\n",
       "\n",
       "    .dataframe thead th {\n",
       "        text-align: right;\n",
       "    }\n",
       "</style>\n",
       "<table border=\"1\" class=\"dataframe\">\n",
       "  <thead>\n",
       "    <tr style=\"text-align: right;\">\n",
       "      <th></th>\n",
       "      <th>time</th>\n",
       "      <th>volume</th>\n",
       "      <th>mid_o</th>\n",
       "      <th>mid_h</th>\n",
       "      <th>mid_l</th>\n",
       "      <th>mid_c</th>\n",
       "      <th>bid_o</th>\n",
       "      <th>bid_h</th>\n",
       "      <th>bid_l</th>\n",
       "      <th>bid_c</th>\n",
       "      <th>ask_o</th>\n",
       "      <th>ask_h</th>\n",
       "      <th>ask_l</th>\n",
       "      <th>ask_c</th>\n",
       "    </tr>\n",
       "  </thead>\n",
       "  <tbody>\n",
       "    <tr>\n",
       "      <th>3996</th>\n",
       "      <td>2023-10-20 01:00:00+00:00</td>\n",
       "      <td>8879</td>\n",
       "      <td>1.05760</td>\n",
       "      <td>1.05800</td>\n",
       "      <td>1.05684</td>\n",
       "      <td>1.05754</td>\n",
       "      <td>1.05752</td>\n",
       "      <td>1.05793</td>\n",
       "      <td>1.05677</td>\n",
       "      <td>1.05746</td>\n",
       "      <td>1.05768</td>\n",
       "      <td>1.05808</td>\n",
       "      <td>1.05691</td>\n",
       "      <td>1.05761</td>\n",
       "    </tr>\n",
       "    <tr>\n",
       "      <th>3997</th>\n",
       "      <td>2023-10-20 05:00:00+00:00</td>\n",
       "      <td>16930</td>\n",
       "      <td>1.05750</td>\n",
       "      <td>1.05953</td>\n",
       "      <td>1.05650</td>\n",
       "      <td>1.05877</td>\n",
       "      <td>1.05743</td>\n",
       "      <td>1.05946</td>\n",
       "      <td>1.05643</td>\n",
       "      <td>1.05869</td>\n",
       "      <td>1.05758</td>\n",
       "      <td>1.05960</td>\n",
       "      <td>1.05658</td>\n",
       "      <td>1.05885</td>\n",
       "    </tr>\n",
       "    <tr>\n",
       "      <th>3998</th>\n",
       "      <td>2023-10-20 09:00:00+00:00</td>\n",
       "      <td>17538</td>\n",
       "      <td>1.05875</td>\n",
       "      <td>1.05990</td>\n",
       "      <td>1.05652</td>\n",
       "      <td>1.05838</td>\n",
       "      <td>1.05868</td>\n",
       "      <td>1.05983</td>\n",
       "      <td>1.05644</td>\n",
       "      <td>1.05831</td>\n",
       "      <td>1.05882</td>\n",
       "      <td>1.05997</td>\n",
       "      <td>1.05660</td>\n",
       "      <td>1.05846</td>\n",
       "    </tr>\n",
       "    <tr>\n",
       "      <th>3999</th>\n",
       "      <td>2023-10-20 13:00:00+00:00</td>\n",
       "      <td>24510</td>\n",
       "      <td>1.05838</td>\n",
       "      <td>1.06009</td>\n",
       "      <td>1.05722</td>\n",
       "      <td>1.05896</td>\n",
       "      <td>1.05831</td>\n",
       "      <td>1.06002</td>\n",
       "      <td>1.05714</td>\n",
       "      <td>1.05888</td>\n",
       "      <td>1.05845</td>\n",
       "      <td>1.06016</td>\n",
       "      <td>1.05730</td>\n",
       "      <td>1.05903</td>\n",
       "    </tr>\n",
       "    <tr>\n",
       "      <th>4000</th>\n",
       "      <td>2023-10-20 17:00:00+00:00</td>\n",
       "      <td>10864</td>\n",
       "      <td>1.05898</td>\n",
       "      <td>1.06038</td>\n",
       "      <td>1.05864</td>\n",
       "      <td>1.05948</td>\n",
       "      <td>1.05891</td>\n",
       "      <td>1.06031</td>\n",
       "      <td>1.05857</td>\n",
       "      <td>1.05938</td>\n",
       "      <td>1.05905</td>\n",
       "      <td>1.06045</td>\n",
       "      <td>1.05871</td>\n",
       "      <td>1.05957</td>\n",
       "    </tr>\n",
       "  </tbody>\n",
       "</table>\n",
       "</div>"
      ],
      "text/plain": [
       "                          time  volume    mid_o    mid_h    mid_l    mid_c  \\\n",
       "3996 2023-10-20 01:00:00+00:00    8879  1.05760  1.05800  1.05684  1.05754   \n",
       "3997 2023-10-20 05:00:00+00:00   16930  1.05750  1.05953  1.05650  1.05877   \n",
       "3998 2023-10-20 09:00:00+00:00   17538  1.05875  1.05990  1.05652  1.05838   \n",
       "3999 2023-10-20 13:00:00+00:00   24510  1.05838  1.06009  1.05722  1.05896   \n",
       "4000 2023-10-20 17:00:00+00:00   10864  1.05898  1.06038  1.05864  1.05948   \n",
       "\n",
       "        bid_o    bid_h    bid_l    bid_c    ask_o    ask_h    ask_l    ask_c  \n",
       "3996  1.05752  1.05793  1.05677  1.05746  1.05768  1.05808  1.05691  1.05761  \n",
       "3997  1.05743  1.05946  1.05643  1.05869  1.05758  1.05960  1.05658  1.05885  \n",
       "3998  1.05868  1.05983  1.05644  1.05831  1.05882  1.05997  1.05660  1.05846  \n",
       "3999  1.05831  1.06002  1.05714  1.05888  1.05845  1.06016  1.05730  1.05903  \n",
       "4000  1.05891  1.06031  1.05857  1.05938  1.05905  1.06045  1.05871  1.05957  "
      ]
     },
     "execution_count": 3,
     "metadata": {},
     "output_type": "execute_result"
    }
   ],
   "source": [
    "df.tail()"
   ]
  },
  {
   "cell_type": "code",
   "execution_count": 4,
   "id": "d438e633",
   "metadata": {},
   "outputs": [],
   "source": [
    "df['sTime'] = [dt.datetime.strftime(x, \"s%y-%m-%d %H:%M\") for x in df.time]"
   ]
  },
  {
   "cell_type": "code",
   "execution_count": 5,
   "id": "2046e30d",
   "metadata": {},
   "outputs": [],
   "source": [
    "df_plot = df.iloc[:100]"
   ]
  },
  {
   "cell_type": "code",
   "execution_count": 7,
   "id": "0a1c446f",
   "metadata": {},
   "outputs": [
    {
     "data": {
      "application/vnd.plotly.v1+json": {
       "config": {
        "plotlyServerURL": "https://plot.ly"
       },
       "data": [
        {
         "close": [
          1.17077,
          1.17464,
          1.17256,
          1.175,
          1.17308,
          1.17293,
          1.17158,
          1.17278,
          1.17453,
          1.17732,
          1.17774,
          1.17716,
          1.1778,
          1.17822,
          1.17688,
          1.17612,
          1.17602,
          1.17651,
          1.17591,
          1.17474,
          1.1779,
          1.18161,
          1.18123,
          1.1814,
          1.18056,
          1.18138,
          1.18288,
          1.18556,
          1.18765,
          1.18724,
          1.18708,
          1.18862,
          1.18848,
          1.18823,
          1.18718,
          1.18666,
          1.18728,
          1.18814,
          1.18927,
          1.19216,
          1.19154,
          1.19192,
          1.19042,
          1.18858,
          1.1876,
          1.19002,
          1.18998,
          1.18976,
          1.18882,
          1.18839,
          1.19142,
          1.19159,
          1.19114,
          1.19042,
          1.18874,
          1.1901,
          1.19244,
          1.1938,
          1.19487,
          1.19544,
          1.19628,
          1.19668,
          1.19638,
          1.19851,
          1.1979,
          1.19864,
          1.19704,
          1.1981,
          1.19584,
          1.1971,
          1.19665,
          1.19571,
          1.19634,
          1.19781,
          1.19838,
          1.19806,
          1.19822,
          1.19614,
          1.19586,
          1.20251,
          1.20403,
          1.20382,
          1.20369,
          1.20393,
          1.20632,
          1.20687,
          1.20348,
          1.20304,
          1.20364,
          1.20347,
          1.20276,
          1.20062,
          1.20141,
          1.20275,
          1.20349,
          1.20368,
          1.20338,
          1.20262,
          1.20646,
          1.20088
         ],
         "decreasing": {
          "fillcolor": "#CC2E3C",
          "line": {
           "color": "#FF3A4C"
          }
         },
         "high": [
          1.17241,
          1.17481,
          1.17463,
          1.176,
          1.17554,
          1.17323,
          1.1733,
          1.17446,
          1.17539,
          1.178,
          1.17787,
          1.17842,
          1.17814,
          1.17868,
          1.17862,
          1.1769,
          1.17662,
          1.17681,
          1.1772,
          1.17608,
          1.1781,
          1.18167,
          1.18196,
          1.18217,
          1.18172,
          1.1821,
          1.18334,
          1.1856,
          1.18778,
          1.18788,
          1.1878,
          1.18875,
          1.18984,
          1.19149,
          1.18869,
          1.18742,
          1.1874,
          1.18932,
          1.1895,
          1.19275,
          1.19232,
          1.19202,
          1.19202,
          1.19044,
          1.19004,
          1.19034,
          1.19106,
          1.19042,
          1.18988,
          1.18943,
          1.19184,
          1.19192,
          1.19174,
          1.1916,
          1.19046,
          1.19089,
          1.19346,
          1.19436,
          1.1956,
          1.19585,
          1.19642,
          1.1974,
          1.19696,
          1.19874,
          1.19856,
          1.19888,
          1.199,
          1.19904,
          1.19934,
          1.1984,
          1.19774,
          1.19748,
          1.19642,
          1.19889,
          1.1995,
          1.19938,
          1.19836,
          1.19778,
          1.19642,
          1.20327,
          1.2048,
          1.20408,
          1.2041,
          1.20456,
          1.2072,
          1.20799,
          1.2071,
          1.20568,
          1.2037,
          1.20438,
          1.20422,
          1.20354,
          1.20162,
          1.20392,
          1.20361,
          1.204,
          1.20469,
          1.20496,
          1.20665,
          1.20698
         ],
         "increasing": {
          "fillcolor": "#24A06B",
          "line": {
           "color": "#2EC886"
          }
         },
         "line": {
          "width": 1
         },
         "low": [
          1.17042,
          1.17048,
          1.17212,
          1.17211,
          1.17196,
          1.17211,
          1.17145,
          1.17126,
          1.17243,
          1.1739,
          1.17668,
          1.17703,
          1.17693,
          1.17696,
          1.17575,
          1.17494,
          1.17581,
          1.17558,
          1.1759,
          1.17408,
          1.17376,
          1.17781,
          1.18078,
          1.18118,
          1.17998,
          1.1795,
          1.18024,
          1.18262,
          1.18521,
          1.18686,
          1.18656,
          1.1864,
          1.1877,
          1.18818,
          1.18608,
          1.18656,
          1.18608,
          1.18673,
          1.18618,
          1.18836,
          1.1912,
          1.19107,
          1.1903,
          1.18838,
          1.18671,
          1.18706,
          1.1899,
          1.18905,
          1.18856,
          1.18712,
          1.18838,
          1.19036,
          1.1899,
          1.19023,
          1.1886,
          1.18828,
          1.1878,
          1.19232,
          1.19379,
          1.19476,
          1.19526,
          1.1955,
          1.19511,
          1.19529,
          1.19698,
          1.19778,
          1.19698,
          1.19702,
          1.19571,
          1.19562,
          1.19571,
          1.19562,
          1.19506,
          1.19584,
          1.19692,
          1.1975,
          1.19724,
          1.19608,
          1.19426,
          1.19582,
          1.2022,
          1.20151,
          1.20332,
          1.20344,
          1.20375,
          1.20485,
          1.20263,
          1.20256,
          1.20224,
          1.20307,
          1.20246,
          1.20034,
          1.19985,
          1.19992,
          1.20266,
          1.20326,
          1.20324,
          1.20241,
          1.20222,
          1.20026
         ],
         "opacity": 1,
         "open": [
          1.17224,
          1.17078,
          1.17462,
          1.17257,
          1.17498,
          1.17298,
          1.17294,
          1.17156,
          1.17276,
          1.17454,
          1.1773,
          1.1777,
          1.17715,
          1.17782,
          1.17821,
          1.17687,
          1.17606,
          1.17608,
          1.1765,
          1.17592,
          1.17472,
          1.17791,
          1.1816,
          1.18123,
          1.18142,
          1.18058,
          1.18141,
          1.1829,
          1.18556,
          1.18758,
          1.18723,
          1.1871,
          1.18862,
          1.18846,
          1.18822,
          1.1867,
          1.18667,
          1.1873,
          1.18812,
          1.18928,
          1.19214,
          1.1915,
          1.19194,
          1.19041,
          1.18856,
          1.18762,
          1.19,
          1.18906,
          1.18978,
          1.1888,
          1.18838,
          1.19143,
          1.19158,
          1.19106,
          1.1904,
          1.18876,
          1.19011,
          1.19243,
          1.19381,
          1.1948,
          1.19545,
          1.19626,
          1.19666,
          1.19639,
          1.19852,
          1.19785,
          1.19861,
          1.19702,
          1.19808,
          1.19584,
          1.19708,
          1.19665,
          1.19572,
          1.19632,
          1.19782,
          1.19838,
          1.19807,
          1.19734,
          1.19616,
          1.19588,
          1.20252,
          1.20404,
          1.20383,
          1.20382,
          1.20394,
          1.2063,
          1.20686,
          1.20346,
          1.20303,
          1.2034,
          1.20346,
          1.20275,
          1.20063,
          1.20142,
          1.20276,
          1.2033,
          1.20366,
          1.20337,
          1.2026,
          1.20646
         ],
         "type": "candlestick",
         "x": [
          "s21-03-31 01:00",
          "s21-03-31 05:00",
          "s21-03-31 09:00",
          "s21-03-31 13:00",
          "s21-03-31 17:00",
          "s21-03-31 21:00",
          "s21-04-01 01:00",
          "s21-04-01 05:00",
          "s21-04-01 09:00",
          "s21-04-01 13:00",
          "s21-04-01 17:00",
          "s21-04-01 21:00",
          "s21-04-02 01:00",
          "s21-04-02 05:00",
          "s21-04-02 09:00",
          "s21-04-02 13:00",
          "s21-04-02 17:00",
          "s21-04-04 21:00",
          "s21-04-05 01:00",
          "s21-04-05 05:00",
          "s21-04-05 09:00",
          "s21-04-05 13:00",
          "s21-04-05 17:00",
          "s21-04-05 21:00",
          "s21-04-06 01:00",
          "s21-04-06 05:00",
          "s21-04-06 09:00",
          "s21-04-06 13:00",
          "s21-04-06 17:00",
          "s21-04-06 21:00",
          "s21-04-07 01:00",
          "s21-04-07 05:00",
          "s21-04-07 09:00",
          "s21-04-07 13:00",
          "s21-04-07 17:00",
          "s21-04-07 21:00",
          "s21-04-08 01:00",
          "s21-04-08 05:00",
          "s21-04-08 09:00",
          "s21-04-08 13:00",
          "s21-04-08 17:00",
          "s21-04-08 21:00",
          "s21-04-09 01:00",
          "s21-04-09 05:00",
          "s21-04-09 09:00",
          "s21-04-09 13:00",
          "s21-04-09 17:00",
          "s21-04-11 21:00",
          "s21-04-12 01:00",
          "s21-04-12 05:00",
          "s21-04-12 09:00",
          "s21-04-12 13:00",
          "s21-04-12 17:00",
          "s21-04-12 21:00",
          "s21-04-13 01:00",
          "s21-04-13 05:00",
          "s21-04-13 09:00",
          "s21-04-13 13:00",
          "s21-04-13 17:00",
          "s21-04-13 21:00",
          "s21-04-14 01:00",
          "s21-04-14 05:00",
          "s21-04-14 09:00",
          "s21-04-14 13:00",
          "s21-04-14 17:00",
          "s21-04-14 21:00",
          "s21-04-15 01:00",
          "s21-04-15 05:00",
          "s21-04-15 09:00",
          "s21-04-15 13:00",
          "s21-04-15 17:00",
          "s21-04-15 21:00",
          "s21-04-16 01:00",
          "s21-04-16 05:00",
          "s21-04-16 09:00",
          "s21-04-16 13:00",
          "s21-04-16 17:00",
          "s21-04-18 21:00",
          "s21-04-19 01:00",
          "s21-04-19 05:00",
          "s21-04-19 09:00",
          "s21-04-19 13:00",
          "s21-04-19 17:00",
          "s21-04-19 21:00",
          "s21-04-20 01:00",
          "s21-04-20 05:00",
          "s21-04-20 09:00",
          "s21-04-20 13:00",
          "s21-04-20 17:00",
          "s21-04-20 21:00",
          "s21-04-21 01:00",
          "s21-04-21 05:00",
          "s21-04-21 09:00",
          "s21-04-21 13:00",
          "s21-04-21 17:00",
          "s21-04-21 21:00",
          "s21-04-22 01:00",
          "s21-04-22 05:00",
          "s21-04-22 09:00",
          "s21-04-22 13:00"
         ]
        }
       ],
       "layout": {
        "font": {
         "color": "#e1e1e1",
         "size": 8
        },
        "height": 400,
        "margin": {
         "b": 10,
         "l": 10,
         "r": 10,
         "t": 10
        },
        "paper_bgcolor": "#2c303c",
        "plot_bgcolor": "#2c303c",
        "template": {
         "data": {
          "bar": [
           {
            "error_x": {
             "color": "#2a3f5f"
            },
            "error_y": {
             "color": "#2a3f5f"
            },
            "marker": {
             "line": {
              "color": "#E5ECF6",
              "width": 0.5
             },
             "pattern": {
              "fillmode": "overlay",
              "size": 10,
              "solidity": 0.2
             }
            },
            "type": "bar"
           }
          ],
          "barpolar": [
           {
            "marker": {
             "line": {
              "color": "#E5ECF6",
              "width": 0.5
             },
             "pattern": {
              "fillmode": "overlay",
              "size": 10,
              "solidity": 0.2
             }
            },
            "type": "barpolar"
           }
          ],
          "carpet": [
           {
            "aaxis": {
             "endlinecolor": "#2a3f5f",
             "gridcolor": "white",
             "linecolor": "white",
             "minorgridcolor": "white",
             "startlinecolor": "#2a3f5f"
            },
            "baxis": {
             "endlinecolor": "#2a3f5f",
             "gridcolor": "white",
             "linecolor": "white",
             "minorgridcolor": "white",
             "startlinecolor": "#2a3f5f"
            },
            "type": "carpet"
           }
          ],
          "choropleth": [
           {
            "colorbar": {
             "outlinewidth": 0,
             "ticks": ""
            },
            "type": "choropleth"
           }
          ],
          "contour": [
           {
            "colorbar": {
             "outlinewidth": 0,
             "ticks": ""
            },
            "colorscale": [
             [
              0,
              "#0d0887"
             ],
             [
              0.1111111111111111,
              "#46039f"
             ],
             [
              0.2222222222222222,
              "#7201a8"
             ],
             [
              0.3333333333333333,
              "#9c179e"
             ],
             [
              0.4444444444444444,
              "#bd3786"
             ],
             [
              0.5555555555555556,
              "#d8576b"
             ],
             [
              0.6666666666666666,
              "#ed7953"
             ],
             [
              0.7777777777777778,
              "#fb9f3a"
             ],
             [
              0.8888888888888888,
              "#fdca26"
             ],
             [
              1,
              "#f0f921"
             ]
            ],
            "type": "contour"
           }
          ],
          "contourcarpet": [
           {
            "colorbar": {
             "outlinewidth": 0,
             "ticks": ""
            },
            "type": "contourcarpet"
           }
          ],
          "heatmap": [
           {
            "colorbar": {
             "outlinewidth": 0,
             "ticks": ""
            },
            "colorscale": [
             [
              0,
              "#0d0887"
             ],
             [
              0.1111111111111111,
              "#46039f"
             ],
             [
              0.2222222222222222,
              "#7201a8"
             ],
             [
              0.3333333333333333,
              "#9c179e"
             ],
             [
              0.4444444444444444,
              "#bd3786"
             ],
             [
              0.5555555555555556,
              "#d8576b"
             ],
             [
              0.6666666666666666,
              "#ed7953"
             ],
             [
              0.7777777777777778,
              "#fb9f3a"
             ],
             [
              0.8888888888888888,
              "#fdca26"
             ],
             [
              1,
              "#f0f921"
             ]
            ],
            "type": "heatmap"
           }
          ],
          "heatmapgl": [
           {
            "colorbar": {
             "outlinewidth": 0,
             "ticks": ""
            },
            "colorscale": [
             [
              0,
              "#0d0887"
             ],
             [
              0.1111111111111111,
              "#46039f"
             ],
             [
              0.2222222222222222,
              "#7201a8"
             ],
             [
              0.3333333333333333,
              "#9c179e"
             ],
             [
              0.4444444444444444,
              "#bd3786"
             ],
             [
              0.5555555555555556,
              "#d8576b"
             ],
             [
              0.6666666666666666,
              "#ed7953"
             ],
             [
              0.7777777777777778,
              "#fb9f3a"
             ],
             [
              0.8888888888888888,
              "#fdca26"
             ],
             [
              1,
              "#f0f921"
             ]
            ],
            "type": "heatmapgl"
           }
          ],
          "histogram": [
           {
            "marker": {
             "pattern": {
              "fillmode": "overlay",
              "size": 10,
              "solidity": 0.2
             }
            },
            "type": "histogram"
           }
          ],
          "histogram2d": [
           {
            "colorbar": {
             "outlinewidth": 0,
             "ticks": ""
            },
            "colorscale": [
             [
              0,
              "#0d0887"
             ],
             [
              0.1111111111111111,
              "#46039f"
             ],
             [
              0.2222222222222222,
              "#7201a8"
             ],
             [
              0.3333333333333333,
              "#9c179e"
             ],
             [
              0.4444444444444444,
              "#bd3786"
             ],
             [
              0.5555555555555556,
              "#d8576b"
             ],
             [
              0.6666666666666666,
              "#ed7953"
             ],
             [
              0.7777777777777778,
              "#fb9f3a"
             ],
             [
              0.8888888888888888,
              "#fdca26"
             ],
             [
              1,
              "#f0f921"
             ]
            ],
            "type": "histogram2d"
           }
          ],
          "histogram2dcontour": [
           {
            "colorbar": {
             "outlinewidth": 0,
             "ticks": ""
            },
            "colorscale": [
             [
              0,
              "#0d0887"
             ],
             [
              0.1111111111111111,
              "#46039f"
             ],
             [
              0.2222222222222222,
              "#7201a8"
             ],
             [
              0.3333333333333333,
              "#9c179e"
             ],
             [
              0.4444444444444444,
              "#bd3786"
             ],
             [
              0.5555555555555556,
              "#d8576b"
             ],
             [
              0.6666666666666666,
              "#ed7953"
             ],
             [
              0.7777777777777778,
              "#fb9f3a"
             ],
             [
              0.8888888888888888,
              "#fdca26"
             ],
             [
              1,
              "#f0f921"
             ]
            ],
            "type": "histogram2dcontour"
           }
          ],
          "mesh3d": [
           {
            "colorbar": {
             "outlinewidth": 0,
             "ticks": ""
            },
            "type": "mesh3d"
           }
          ],
          "parcoords": [
           {
            "line": {
             "colorbar": {
              "outlinewidth": 0,
              "ticks": ""
             }
            },
            "type": "parcoords"
           }
          ],
          "pie": [
           {
            "automargin": true,
            "type": "pie"
           }
          ],
          "scatter": [
           {
            "fillpattern": {
             "fillmode": "overlay",
             "size": 10,
             "solidity": 0.2
            },
            "type": "scatter"
           }
          ],
          "scatter3d": [
           {
            "line": {
             "colorbar": {
              "outlinewidth": 0,
              "ticks": ""
             }
            },
            "marker": {
             "colorbar": {
              "outlinewidth": 0,
              "ticks": ""
             }
            },
            "type": "scatter3d"
           }
          ],
          "scattercarpet": [
           {
            "marker": {
             "colorbar": {
              "outlinewidth": 0,
              "ticks": ""
             }
            },
            "type": "scattercarpet"
           }
          ],
          "scattergeo": [
           {
            "marker": {
             "colorbar": {
              "outlinewidth": 0,
              "ticks": ""
             }
            },
            "type": "scattergeo"
           }
          ],
          "scattergl": [
           {
            "marker": {
             "colorbar": {
              "outlinewidth": 0,
              "ticks": ""
             }
            },
            "type": "scattergl"
           }
          ],
          "scattermapbox": [
           {
            "marker": {
             "colorbar": {
              "outlinewidth": 0,
              "ticks": ""
             }
            },
            "type": "scattermapbox"
           }
          ],
          "scatterpolar": [
           {
            "marker": {
             "colorbar": {
              "outlinewidth": 0,
              "ticks": ""
             }
            },
            "type": "scatterpolar"
           }
          ],
          "scatterpolargl": [
           {
            "marker": {
             "colorbar": {
              "outlinewidth": 0,
              "ticks": ""
             }
            },
            "type": "scatterpolargl"
           }
          ],
          "scatterternary": [
           {
            "marker": {
             "colorbar": {
              "outlinewidth": 0,
              "ticks": ""
             }
            },
            "type": "scatterternary"
           }
          ],
          "surface": [
           {
            "colorbar": {
             "outlinewidth": 0,
             "ticks": ""
            },
            "colorscale": [
             [
              0,
              "#0d0887"
             ],
             [
              0.1111111111111111,
              "#46039f"
             ],
             [
              0.2222222222222222,
              "#7201a8"
             ],
             [
              0.3333333333333333,
              "#9c179e"
             ],
             [
              0.4444444444444444,
              "#bd3786"
             ],
             [
              0.5555555555555556,
              "#d8576b"
             ],
             [
              0.6666666666666666,
              "#ed7953"
             ],
             [
              0.7777777777777778,
              "#fb9f3a"
             ],
             [
              0.8888888888888888,
              "#fdca26"
             ],
             [
              1,
              "#f0f921"
             ]
            ],
            "type": "surface"
           }
          ],
          "table": [
           {
            "cells": {
             "fill": {
              "color": "#EBF0F8"
             },
             "line": {
              "color": "white"
             }
            },
            "header": {
             "fill": {
              "color": "#C8D4E3"
             },
             "line": {
              "color": "white"
             }
            },
            "type": "table"
           }
          ]
         },
         "layout": {
          "annotationdefaults": {
           "arrowcolor": "#2a3f5f",
           "arrowhead": 0,
           "arrowwidth": 1
          },
          "autotypenumbers": "strict",
          "coloraxis": {
           "colorbar": {
            "outlinewidth": 0,
            "ticks": ""
           }
          },
          "colorscale": {
           "diverging": [
            [
             0,
             "#8e0152"
            ],
            [
             0.1,
             "#c51b7d"
            ],
            [
             0.2,
             "#de77ae"
            ],
            [
             0.3,
             "#f1b6da"
            ],
            [
             0.4,
             "#fde0ef"
            ],
            [
             0.5,
             "#f7f7f7"
            ],
            [
             0.6,
             "#e6f5d0"
            ],
            [
             0.7,
             "#b8e186"
            ],
            [
             0.8,
             "#7fbc41"
            ],
            [
             0.9,
             "#4d9221"
            ],
            [
             1,
             "#276419"
            ]
           ],
           "sequential": [
            [
             0,
             "#0d0887"
            ],
            [
             0.1111111111111111,
             "#46039f"
            ],
            [
             0.2222222222222222,
             "#7201a8"
            ],
            [
             0.3333333333333333,
             "#9c179e"
            ],
            [
             0.4444444444444444,
             "#bd3786"
            ],
            [
             0.5555555555555556,
             "#d8576b"
            ],
            [
             0.6666666666666666,
             "#ed7953"
            ],
            [
             0.7777777777777778,
             "#fb9f3a"
            ],
            [
             0.8888888888888888,
             "#fdca26"
            ],
            [
             1,
             "#f0f921"
            ]
           ],
           "sequentialminus": [
            [
             0,
             "#0d0887"
            ],
            [
             0.1111111111111111,
             "#46039f"
            ],
            [
             0.2222222222222222,
             "#7201a8"
            ],
            [
             0.3333333333333333,
             "#9c179e"
            ],
            [
             0.4444444444444444,
             "#bd3786"
            ],
            [
             0.5555555555555556,
             "#d8576b"
            ],
            [
             0.6666666666666666,
             "#ed7953"
            ],
            [
             0.7777777777777778,
             "#fb9f3a"
            ],
            [
             0.8888888888888888,
             "#fdca26"
            ],
            [
             1,
             "#f0f921"
            ]
           ]
          },
          "colorway": [
           "#636efa",
           "#EF553B",
           "#00cc96",
           "#ab63fa",
           "#FFA15A",
           "#19d3f3",
           "#FF6692",
           "#B6E880",
           "#FF97FF",
           "#FECB52"
          ],
          "font": {
           "color": "#2a3f5f"
          },
          "geo": {
           "bgcolor": "white",
           "lakecolor": "white",
           "landcolor": "#E5ECF6",
           "showlakes": true,
           "showland": true,
           "subunitcolor": "white"
          },
          "hoverlabel": {
           "align": "left"
          },
          "hovermode": "closest",
          "mapbox": {
           "style": "light"
          },
          "paper_bgcolor": "white",
          "plot_bgcolor": "#E5ECF6",
          "polar": {
           "angularaxis": {
            "gridcolor": "white",
            "linecolor": "white",
            "ticks": ""
           },
           "bgcolor": "#E5ECF6",
           "radialaxis": {
            "gridcolor": "white",
            "linecolor": "white",
            "ticks": ""
           }
          },
          "scene": {
           "xaxis": {
            "backgroundcolor": "#E5ECF6",
            "gridcolor": "white",
            "gridwidth": 2,
            "linecolor": "white",
            "showbackground": true,
            "ticks": "",
            "zerolinecolor": "white"
           },
           "yaxis": {
            "backgroundcolor": "#E5ECF6",
            "gridcolor": "white",
            "gridwidth": 2,
            "linecolor": "white",
            "showbackground": true,
            "ticks": "",
            "zerolinecolor": "white"
           },
           "zaxis": {
            "backgroundcolor": "#E5ECF6",
            "gridcolor": "white",
            "gridwidth": 2,
            "linecolor": "white",
            "showbackground": true,
            "ticks": "",
            "zerolinecolor": "white"
           }
          },
          "shapedefaults": {
           "line": {
            "color": "#2a3f5f"
           }
          },
          "ternary": {
           "aaxis": {
            "gridcolor": "white",
            "linecolor": "white",
            "ticks": ""
           },
           "baxis": {
            "gridcolor": "white",
            "linecolor": "white",
            "ticks": ""
           },
           "bgcolor": "#E5ECF6",
           "caxis": {
            "gridcolor": "white",
            "linecolor": "white",
            "ticks": ""
           }
          },
          "title": {
           "x": 0.05
          },
          "xaxis": {
           "automargin": true,
           "gridcolor": "white",
           "linecolor": "white",
           "ticks": "",
           "title": {
            "standoff": 15
           },
           "zerolinecolor": "white",
           "zerolinewidth": 2
          },
          "yaxis": {
           "automargin": true,
           "gridcolor": "white",
           "linecolor": "white",
           "ticks": "",
           "title": {
            "standoff": 15
           },
           "zerolinecolor": "white",
           "zerolinewidth": 2
          }
         }
        },
        "width": 900,
        "xaxis": {
         "gridcolor": "#1f292f",
         "nticks": 5,
         "rangeslider": {
          "visible": false
         }
        },
        "yaxis": {
         "gridcolor": "#1f292f"
        }
       }
      }
     },
     "metadata": {},
     "output_type": "display_data"
    }
   ],
   "source": [
    "fig = go.Figure()\n",
    "fig.add_trace(go.Candlestick(\n",
    "    x=df_plot.sTime,\n",
    "    open=df_plot.mid_o,\n",
    "    high=df_plot.mid_h,\n",
    "    low=df_plot.mid_l,\n",
    "    close=df_plot.mid_c,\n",
    "    line=dict(width=1), opacity=1,\n",
    "    increasing_fillcolor='#24A06B',\n",
    "    decreasing_fillcolor=\"#CC2E3C\",\n",
    "    increasing_line_color='#2EC886',  \n",
    "    decreasing_line_color='#FF3A4C'\n",
    "))\n",
    "\n",
    "fig.update_yaxes(\n",
    "    gridcolor=\"#1f292f\"\n",
    ")\n",
    "fig.update_xaxes(\n",
    "    gridcolor=\"#1f292f\",\n",
    "    rangeslider=dict(visible=False),\n",
    "    nticks=5\n",
    ")\n",
    "\n",
    "fig.update_layout(\n",
    "    width=900,\n",
    "    height=400,\n",
    "    margin=dict(l=10,r=10,b=10,t=10),\n",
    "    paper_bgcolor=\"#2c303c\",\n",
    "    plot_bgcolor=\"#2c303c\",\n",
    "    font=dict(size=8, color=\"#e1e1e1\")\n",
    ")\n",
    "\n",
    "fig.show()"
   ]
  },
  {
   "cell_type": "code",
   "execution_count": null,
   "id": "e82b7f77",
   "metadata": {},
   "outputs": [],
   "source": []
  },
  {
   "cell_type": "code",
   "execution_count": null,
   "id": "fdb6f2c5",
   "metadata": {},
   "outputs": [],
   "source": []
  },
  {
   "cell_type": "code",
   "execution_count": null,
   "id": "210c53e5",
   "metadata": {},
   "outputs": [],
   "source": []
  },
  {
   "cell_type": "code",
   "execution_count": null,
   "id": "1f25826c",
   "metadata": {},
   "outputs": [],
   "source": []
  },
  {
   "cell_type": "code",
   "execution_count": null,
   "id": "43f3bf12",
   "metadata": {},
   "outputs": [],
   "source": []
  },
  {
   "cell_type": "code",
   "execution_count": null,
   "id": "29ec4abb",
   "metadata": {},
   "outputs": [],
   "source": []
  }
 ],
 "metadata": {
  "kernelspec": {
   "display_name": "Python 3 (ipykernel)",
   "language": "python",
   "name": "python3"
  },
  "language_info": {
   "codemirror_mode": {
    "name": "ipython",
    "version": 3
   },
   "file_extension": ".py",
   "mimetype": "text/x-python",
   "name": "python",
   "nbconvert_exporter": "python",
   "pygments_lexer": "ipython3",
   "version": "3.11.1"
  }
 },
 "nbformat": 4,
 "nbformat_minor": 5
}
